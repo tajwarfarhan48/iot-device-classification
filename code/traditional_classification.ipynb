{
 "cells": [
  {
   "cell_type": "code",
   "execution_count": null,
   "id": "2839703c-7758-4174-b507-c0bc7ff3bc44",
   "metadata": {},
   "outputs": [],
   "source": [
    "%run chatgpt_utils.ipynb"
   ]
  },
  {
   "cell_type": "code",
   "execution_count": 29,
   "id": "c83bf31e-3baa-4ee8-87ef-9d874a6ac5f5",
   "metadata": {},
   "outputs": [],
   "source": [
    "from sklearn.preprocessing import OneHotEncoder, StandardScaler\n",
    "from sklearn.base import BaseEstimator, TransformerMixin\n",
    "from sklearn.compose import make_column_transformer\n",
    "from sklearn.neighbors import KNeighborsClassifier\n",
    "from sklearn.ensemble import RandomForestClassifier\n",
    "from sklearn.svm import SVC\n",
    "from sklearn.metrics import classification_report\n",
    "import json"
   ]
  },
  {
   "cell_type": "markdown",
   "id": "f9fa8e15",
   "metadata": {},
   "source": [
    "# Processing Input Data"
   ]
  },
  {
   "cell_type": "code",
   "execution_count": 4,
   "id": "26130cdb-02bf-4e6f-9ed1-cbb6f8c9da06",
   "metadata": {},
   "outputs": [],
   "source": [
    "\"\"\"Read the dataframes\n",
    "\n",
    "unswiotan18_labelled_dups.csv -- All entries from the UNSW dataset (with some additional processing)\n",
    "unsw_selected.csv             -- 1024 selected rows from the UNSW dataset\n",
    "zbw_selected.csv              -- 1013 selected rows from the ZBW (UTSA Lab) dataset\n",
    "\"\"\"\n",
    "\n",
    "unsw_dups_df = pd.read_csv( '../data/csv/unswiotan18_labelled_dups.csv', index_col='entry_id' )\n",
    "unsw_selected_df = pd.read_csv( '../data/csv/unsw_selected.csv', index_col='entry_id' )\n",
    "zbw_selected_df = pd.read_csv( '../data/csv/zbw_selected.csv', index_col='entry_id' )"
   ]
  },
  {
   "cell_type": "code",
   "execution_count": 5,
   "id": "bf8ebb09-0cdc-4325-8662-c6c79b78036d",
   "metadata": {},
   "outputs": [],
   "source": [
    "# Select the training examples and labels\n",
    "training_df = unsw_dups_df.loc[TRAINING_INDICES_7_EXAMPLE].drop( 'label', axis=1 )\n",
    "training_df['protocol'] = training_df['protocol'].astype( 'str' )\n",
    "training_labels = unsw_dups_df.loc[TRAINING_INDICES_7_EXAMPLE]['label']"
   ]
  },
  {
   "cell_type": "code",
   "execution_count": 6,
   "id": "21a19e83-07da-4ae5-896d-a16e1ab375df",
   "metadata": {},
   "outputs": [],
   "source": [
    "# Select the testing examples and labels\n",
    "unsw_testing_df = unsw_selected_df.drop( 'label', axis=1 )\n",
    "unsw_testing_df['protocol'] = unsw_testing_df['protocol'].astype( 'str' )\n",
    "unsw_testing_labels = unsw_selected_df['label']\n",
    "\n",
    "zbw_testing_df = zbw_selected_df.drop( 'label', axis=1 )\n",
    "zbw_testing_labels = zbw_selected_df['label']"
   ]
  },
  {
   "cell_type": "code",
   "execution_count": 7,
   "id": "3956b42f-6dc1-484a-b495-5988cdf43c1e",
   "metadata": {},
   "outputs": [],
   "source": [
    "ouis = pd.concat( [ unsw_dups_df['src_oui'], unsw_dups_df['dst_oui'], zbw_selected_df['src_oui'], zbw_selected_df['dst_oui'] ] ).drop_duplicates().to_numpy().reshape( -1, 1 )\n",
    "labels = unsw_dups_df['label'].drop_duplicates().to_numpy().reshape( -1, 1 )\n",
    "protocols = pd.concat( [ unsw_dups_df['protocol'].astype( 'str' ), zbw_selected_df['protocol'] ] ).drop_duplicates().to_numpy().reshape( -1, 1 ) \n",
    "\n",
    "ouiOHE = OneHotEncoder( handle_unknown='ignore' )\n",
    "labelOHE = OneHotEncoder( handle_unknown='ignore' )\n",
    "protocolOHE = OneHotEncoder( handle_unknown='ignore' )\n",
    "\n",
    "ouiOHE.fit( ouis )\n",
    "labelOHE.fit( labels )\n",
    "protocolOHE.fit( protocols )\n",
    "\n",
    "# One hot encoder to process the OUIs of the devices\n",
    "class OuiOHE( BaseEstimator, TransformerMixin ):\n",
    "    def transform( self, X, y=None ):\n",
    "        global ouiOHE\n",
    "        return ouiOHE.transform( X )\n",
    "    \n",
    "    def fit( self, X, y=None ):\n",
    "        return self\n",
    "\n",
    "# One hot encoder to process the device types / labels\n",
    "class LabelOHE( BaseEstimator, TransformerMixin ):\n",
    "    def transform( self, X, y=None ):\n",
    "        global labelOHE\n",
    "        return labelOHE.transform( X )\n",
    "    \n",
    "    def fit( self, X, y=None ):\n",
    "        return self\n",
    "\n",
    "# One hot encoeder to process the protocols of the devices\n",
    "class ProtocolOHE( BaseEstimator, TransformerMixin ):\n",
    "    def transform( self, X, y=None ):\n",
    "        global protocolOHE\n",
    "        return protocolOHE.transform( X )\n",
    "    \n",
    "    def fit( self, X, y=None ):\n",
    "        return self"
   ]
  },
  {
   "cell_type": "code",
   "execution_count": 8,
   "id": "5781fa14-a960-4762-a1ca-7c980e274352",
   "metadata": {},
   "outputs": [],
   "source": [
    "# All feature names\n",
    "all_features = [\n",
    "    'src_oui',\n",
    "    'dst_oui',\n",
    "    'protocol',\n",
    "    'bidirectional_min_ps',\n",
    "    'bidirectional_mean_ps',\n",
    "    'bidirectional_max_ps',\n",
    "    'dst2src_min_ps',\n",
    "    'dst2src_mean_ps',\n",
    "    'dst2src_max_ps',\n",
    "    'src2dst_min_ps',\n",
    "    'src2dst_mean_ps',\n",
    "    'src2dst_max_ps',\n",
    "    'label',\n",
    "    'bidirectional_total_bytes',\n",
    "    'bidirectional_total_duration_ms',\n",
    "    'bidirectional_total_packets',\n",
    "    'bidirectional_stdev_ps',\n",
    "    'dst2src_total_bytes',\n",
    "    'dst2src_total_duration_ms',\n",
    "    'dst2src_total_packets',\n",
    "    'dst2src_stdev_ps',\n",
    "    'src2dst_total_bytes',\n",
    "    'src2dst_total_duration_ms',\n",
    "    'src2dst_total_packets',\n",
    "    'src2dst_stdev_ps',\n",
    "    'bidirectional_transmission_rate_byte_ms', \n",
    "    'bidirectional_transmission_rate_ms', \n",
    "    'dst2src_transmission_rate_bytes_ms', \n",
    "    'dst2src_transmission_rate_ms',\n",
    "    'src2dst_transmission_rate_bytes_ms',\n",
    "    'src2dst_transmission_rate_ms'\n",
    "]\n",
    "\n",
    "col_transformer = make_column_transformer(\n",
    "    ( OuiOHE(), [ 'src_oui' ] ),\n",
    "    ( OuiOHE(), [ 'dst_oui' ] ),\n",
    "    ( ProtocolOHE(), [ 'protocol' ] ),\n",
    "    ( StandardScaler(), [ col for col in all_features if col not in { 'src_oui', 'dst_oui', 'protocol', 'label' } ] ),\n",
    "    remainder='passthrough'\n",
    ")"
   ]
  },
  {
   "cell_type": "code",
   "execution_count": null,
   "id": "94004a3b-c592-4660-8fb0-95ea2bf79e8d",
   "metadata": {},
   "outputs": [],
   "source": [
    "X_train = col_transformer.fit_transform( training_df )\n",
    "y_train = training_labels\n",
    "\n",
    "X_test_unsw = col_transformer.transform( unsw_testing_df )\n",
    "y_test_unsw = unsw_testing_labels\n",
    "\n",
    "X_test_zbw = col_transformer.transform( zbw_testing_df )\n",
    "y_test_zbw = zbw_testing_labels"
   ]
  },
  {
   "cell_type": "markdown",
   "id": "dcd4fd8d",
   "metadata": {},
   "source": [
    "# Running Machine Learning Models"
   ]
  },
  {
   "cell_type": "code",
   "execution_count": 17,
   "id": "f0f8d2c0-3ecf-4cb0-b232-b7a8d9331cde",
   "metadata": {},
   "outputs": [],
   "source": [
    "# K-Nearest Neighbors Analysis\n",
    "knn = KNeighborsClassifier()\n",
    "knn.fit( X_train, y_train )\n",
    "y_pred_unsw_knn = knn.predict( X_test_unsw )\n",
    "y_pred_zbw_knn = knn.predict( X_test_zbw )"
   ]
  },
  {
   "cell_type": "code",
   "execution_count": 18,
   "id": "c99b5210-e2bf-42c9-adf9-0064f82364d6",
   "metadata": {},
   "outputs": [],
   "source": [
    "# Random Forest Analysis\n",
    "rf = RandomForestClassifier()\n",
    "rf.fit( X_train, y_train )\n",
    "y_pred_unsw_rf = rf.predict( X_test_unsw )\n",
    "y_pred_zbw_rf = rf.predict( X_test_zbw )"
   ]
  },
  {
   "cell_type": "code",
   "execution_count": 19,
   "id": "602cffdf-9dcf-468b-8db8-770260aec6d2",
   "metadata": {},
   "outputs": [],
   "source": [
    "# Support Vector Machine (SVM) Analysis\n",
    "svc = SVC()\n",
    "svc.fit( X_train, y_train )\n",
    "y_pred_unsw_svc = svc.predict( X_test_unsw )\n",
    "y_pred_zbw_svc = svc.predict( X_test_zbw )"
   ]
  },
  {
   "cell_type": "markdown",
   "id": "c9f661f6",
   "metadata": {},
   "source": [
    "# Saving Results"
   ]
  },
  {
   "cell_type": "code",
   "execution_count": 30,
   "id": "63810a79-65c4-49b7-afc3-d3d7ac1985ac",
   "metadata": {},
   "outputs": [],
   "source": [
    "dict1 = classification_report( y_test_unsw, y_pred_unsw_knn, output_dict=True )\n",
    "\n",
    "with open( '../data/json/report_knn_7_examples_unsw.json', 'w' ) as f:\n",
    "    json.dump( dict1, f, indent=4 )"
   ]
  },
  {
   "cell_type": "code",
   "execution_count": 31,
   "id": "9275b1e0-f8d3-454f-b300-633c21632847",
   "metadata": {},
   "outputs": [],
   "source": [
    "dict2 = classification_report( y_test_unsw, y_pred_unsw_rf, output_dict=True )\n",
    "\n",
    "with open( '../data/json/report_rf_7_examples_unsw.json', 'w' ) as f:\n",
    "    json.dump( dict2, f, indent=4 )"
   ]
  },
  {
   "cell_type": "code",
   "execution_count": 32,
   "id": "98f3b723-35a7-4fad-b2ba-3ce89a08ada7",
   "metadata": {},
   "outputs": [],
   "source": [
    "dict3 = classification_report( y_test_unsw, y_pred_unsw_svc, output_dict=True )\n",
    "\n",
    "with open( '../data/json/report_svc_7_examples_unsw.json', 'w' ) as f:\n",
    "    json.dump( dict3, f, indent=4 )"
   ]
  },
  {
   "cell_type": "code",
   "execution_count": null,
   "id": "92875bca-dc2d-47b2-a7bd-3aeb9fd5d82c",
   "metadata": {},
   "outputs": [],
   "source": [
    "dict4 = classification_report( y_test_zbw, y_pred_zbw_knn, output_dict=True )\n",
    "\n",
    "with open( '../data/json/report_knn_7_examples_zbw.json', 'w' ) as f:\n",
    "    json.dump( dict4, f, indent=4 )"
   ]
  },
  {
   "cell_type": "code",
   "execution_count": null,
   "id": "7b7f5012-38ce-403c-ab2f-f5ca273af983",
   "metadata": {},
   "outputs": [],
   "source": [
    "dict5 = classification_report( y_test_zbw, y_pred_zbw_rf, output_dict=True )\n",
    "\n",
    "with open( '../data/json/report_rf_7_examples_zbw.json', 'w' ) as f:\n",
    "    json.dump( dict5, f, indent=4 )"
   ]
  },
  {
   "cell_type": "code",
   "execution_count": null,
   "id": "22c17a5d-9c90-4571-bbf0-c22a764e17b1",
   "metadata": {},
   "outputs": [],
   "source": [
    "dict6 = classification_report( y_test_zbw, y_pred_zbw_svc, output_dict=True )\n",
    "\n",
    "with open( '../data/json/report_svc_7_examples_zbw.json', 'w' ) as f:\n",
    "    json.dump( dict6, f, indent=4 )"
   ]
  }
 ],
 "metadata": {
  "kernelspec": {
   "display_name": "Python 3 (ipykernel)",
   "language": "python",
   "name": "python3"
  },
  "language_info": {
   "codemirror_mode": {
    "name": "ipython",
    "version": 3
   },
   "file_extension": ".py",
   "mimetype": "text/x-python",
   "name": "python",
   "nbconvert_exporter": "python",
   "pygments_lexer": "ipython3",
   "version": "3.10.12"
  }
 },
 "nbformat": 4,
 "nbformat_minor": 5
}
