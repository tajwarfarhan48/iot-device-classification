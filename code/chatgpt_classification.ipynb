{
 "cells": [
  {
   "cell_type": "code",
   "execution_count": null,
   "id": "c290b866-d5a4-46a5-b2ef-70ef02e09411",
   "metadata": {},
   "outputs": [],
   "source": [
    "%run chatgpt_utils.ipynb"
   ]
  },
  {
   "cell_type": "code",
   "execution_count": 2,
   "id": "a110f67a-b7a1-4ab5-8f21-5bd3a13881f7",
   "metadata": {},
   "outputs": [],
   "source": [
    "from sklearn.metrics import classification_report"
   ]
  },
  {
   "cell_type": "code",
   "execution_count": 26,
   "id": "187425a7-096c-43e5-ac86-ae456d7bac51",
   "metadata": {},
   "outputs": [],
   "source": [
    "openai.api_key = KEY  # In order to use/test this code, please include your OpenAI API key here"
   ]
  },
  {
   "cell_type": "code",
   "execution_count": 4,
   "id": "3f9f4cee-61bd-4b3f-aa0d-c7e418f510a2",
   "metadata": {},
   "outputs": [],
   "source": [
    "\"\"\"Read the dataframes\n",
    "\n",
    "unsw_selected.csv -- 1024 selected rows from the UNSW dataset\n",
    "zbw_selected.csv  -- 1013 selected rows from the ZBW (UTSA Lab) dataset\n",
    "\"\"\"\n",
    "\n",
    "unsw_selected_df = pd.read_csv( '../data/csv/unsw_selected.csv', index_col='entry_id' )\n",
    "zbw_selected_df = pd.read_csv( '../data/csv/zbw_selected.csv', index_col='entry_id' )"
   ]
  },
  {
   "cell_type": "markdown",
   "id": "ac4a4e72",
   "metadata": {},
   "source": [
    "# Add Prompt-Tuning Predictions"
   ]
  },
  {
   "cell_type": "code",
   "execution_count": null,
   "id": "20245fd6-f292-410f-96bf-011fd70840ce",
   "metadata": {},
   "outputs": [],
   "source": [
    "add_predictions( 'PROMPT_TUNING', 0, unsw_selected_df, 'UNSW', '../data/csv/preds_pt_0_unsw.csv', '../data/csv/used_pt_0_unsw.csv' )"
   ]
  },
  {
   "cell_type": "code",
   "execution_count": null,
   "id": "1c67b2e3-72b0-4e7c-8ce5-cc467b2c7fe0",
   "metadata": {},
   "outputs": [],
   "source": [
    "add_predictions( 'PROMPT_TUNING', 3, unsw_selected_df, 'UNSW', '../data/csv/preds_pt_3_unsw.csv', '../data/csv/used_pt_3_unsw.csv' )"
   ]
  },
  {
   "cell_type": "code",
   "execution_count": null,
   "id": "8b2ac0d2-a59f-4168-9f09-bccf3e7bcb2b",
   "metadata": {},
   "outputs": [],
   "source": [
    "add_predictions( 'PROMPT_TUNING', 5, unsw_selected_df, 'UNSW', '../data/csv/preds_pt_5_unsw.csv', '../data/csv/used_pt_5_unsw.csv' )"
   ]
  },
  {
   "cell_type": "code",
   "execution_count": null,
   "id": "13397490-70cf-4c85-bd9a-60d19de6df9e",
   "metadata": {},
   "outputs": [],
   "source": [
    "add_predictions( 'PROMPT_TUNING', 7, unsw_selected_df, 'UNSW', '../data/csv/preds_pt_7_unsw.csv', '../data/csv/used_pt_7_unsw.csv' )"
   ]
  },
  {
   "cell_type": "code",
   "execution_count": null,
   "id": "aa2040d9-5ab3-4e7d-9c26-98c71a7495c1",
   "metadata": {},
   "outputs": [],
   "source": [
    "add_predictions( 'PROMPT_TUNING', 7, zbw_selected_df, 'ZBW', '../data/csv/preds_pt_7_zbw.csv', '../data/csv/used_pt_7_zbw.csv' )"
   ]
  },
  {
   "cell_type": "markdown",
   "id": "d82f160a",
   "metadata": {},
   "source": [
    "# Creating Fine-Tuning Model"
   ]
  },
  {
   "cell_type": "code",
   "execution_count": null,
   "id": "0fa9b6d9",
   "metadata": {},
   "outputs": [],
   "source": [
    "unsw_df = pd.read_csv( '../data/csv/unswiotan18_labelled_dups.csv' )\n",
    "fine_tuning_df = unsw_df[unsw_df.index.isin( TRAINING_INDICES_5_EXAMPLE )]\n",
    "generate_fine_tuning_file( fine_tuning_df, '../data/json/fine_tuning.jsonl' )"
   ]
  },
  {
   "cell_type": "code",
   "execution_count": null,
   "id": "bfdb503e",
   "metadata": {},
   "outputs": [],
   "source": [
    "openai.File.create(\n",
    "    file=open( '../data/json/fine_tuning.jsonl', 'rb' ),\n",
    "    purpose='fine-tune'\n",
    ")"
   ]
  },
  {
   "cell_type": "code",
   "execution_count": null,
   "id": "d89dd5d0",
   "metadata": {},
   "outputs": [],
   "source": [
    "# To use/test this code, please include the File ID of the fine-tuning file here\n",
    "openai.FineTuningJob.create(training_file=FILE, model=\"gpt-3.5-turbo\")"
   ]
  },
  {
   "cell_type": "code",
   "execution_count": null,
   "id": "52966372",
   "metadata": {},
   "outputs": [],
   "source": [
    "# To use/test this code, please include the Job ID of the fine-tuning job here\n",
    "openai.FineTuningJob.retrieve(JOB_ID)"
   ]
  },
  {
   "cell_type": "markdown",
   "id": "b92d29f8",
   "metadata": {},
   "source": [
    "# Adding Fine-Tuning Predictions"
   ]
  },
  {
   "cell_type": "code",
   "execution_count": null,
   "id": "55cb2791-45cb-48f9-8c2e-1efb16b0f6ed",
   "metadata": {},
   "outputs": [],
   "source": [
    "add_predictions( 'FINE_TUNING', 5, unsw_selected_df, 'UNSW', '../data/csv/preds_ft_5_unsw.csv', '../data/csv/used_ft_5_unsw.csv' )"
   ]
  },
  {
   "cell_type": "code",
   "execution_count": null,
   "id": "822d4bca-993e-4539-876c-0c4c9829b95b",
   "metadata": {},
   "outputs": [],
   "source": [
    "add_predictions( 'FINE_TUNING', 5, zbw_selected_df, 'ZBW', '../data/csv/preds_ft_5_zbw.csv', '../data/csv/used_ft_5_zbw.csv' )"
   ]
  },
  {
   "cell_type": "markdown",
   "id": "58915873",
   "metadata": {},
   "source": [
    "# Generating Classification Reports"
   ]
  },
  {
   "cell_type": "code",
   "execution_count": null,
   "id": "107c0de2-52e5-4afa-947e-aa44ee04c9ca",
   "metadata": {},
   "outputs": [],
   "source": [
    "df1 = pd.read_csv( '../data/csv/preds_pt_0_unsw.csv', index_col='entry_id' )\n",
    "dict1 = classification_report( df1['actual'], df1['pred'], output_dict=True )\n",
    "\n",
    "with open( '../data/json/report_prompt_tuning_0_examples_unsw.json', 'w' ) as f:\n",
    "    json.dump( dict1, f, indent=4 )"
   ]
  },
  {
   "cell_type": "code",
   "execution_count": null,
   "id": "b03b2338-a767-4093-a26a-c15d4c487c21",
   "metadata": {},
   "outputs": [],
   "source": [
    "df2 = pd.read_csv( '../data/csv/preds_pt_3_unsw.csv', index_col='entry_id' )\n",
    "dict2 = classification_report( df2['actual'], df2['pred'], output_dict=True )\n",
    "\n",
    "with open( '../data/json/report_prompt_tuning_3_examples_unsw.json', 'w' ) as f:\n",
    "    json.dump( dict2, f, indent=4 )"
   ]
  },
  {
   "cell_type": "code",
   "execution_count": null,
   "id": "1514bfc3-595f-47f8-8a2a-6c54b9d16bd8",
   "metadata": {},
   "outputs": [],
   "source": [
    "df3 = pd.read_csv( '../data/csv/preds_pt_5_unsw.csv', index_col='entry_id' )\n",
    "dict3 = classification_report( df3['actual'], df3['pred'], output_dict=True )\n",
    "\n",
    "with open( '../data/json/report_prompt_tuning_5_examples_unsw.json', 'w' ) as f:\n",
    "    json.dump( dict3, f, indent=4 )"
   ]
  },
  {
   "cell_type": "code",
   "execution_count": null,
   "id": "11fbfb10-7042-4d2f-84a8-195e1d49d4c1",
   "metadata": {},
   "outputs": [],
   "source": [
    "df4 = pd.read_csv( '../data/csv/preds_pt_0_zbw.csv', index_col='entry_id' )\n",
    "dict4 = classification_report( df4['actual'], df4['pred'], output_dict=True )\n",
    "\n",
    "with open( '../data/json/report_prompt_tuning_0_examples_zbw.json', 'w' ) as f:\n",
    "    json.dump( dict4, f, indent=4 )"
   ]
  },
  {
   "cell_type": "code",
   "execution_count": null,
   "id": "d62c07ca-e265-45c3-ae09-b417dc76f1a0",
   "metadata": {},
   "outputs": [],
   "source": [
    "df5 = pd.read_csv( '../data/csv/preds_pt_3_zbw.csv', index_col='entry_id' )\n",
    "dict5 = classification_report( df5['actual'], df5['pred'], output_dict=True )\n",
    "\n",
    "with open( '../data/json/report_prompt_tuning_3_examples_zbw.json', 'w' ) as f:\n",
    "    json.dump( dict5, f, indent=4 )"
   ]
  },
  {
   "cell_type": "code",
   "execution_count": null,
   "id": "eef195d4-d6cd-4a1a-b38e-5e43963540c4",
   "metadata": {},
   "outputs": [],
   "source": [
    "df6 = pd.read_csv( '../data/csv/preds_pt_5_zbw.csv', index_col='entry_id' )\n",
    "dict6 = classification_report( df6['actual'], df6['pred'], output_dict=True )\n",
    "\n",
    "with open( '../data/json/report_prompt_tuning_5_examples_zbw.json', 'w' ) as f:\n",
    "    json.dump( dict6, f, indent=4 )"
   ]
  },
  {
   "cell_type": "code",
   "execution_count": null,
   "id": "84e86e15-e702-4780-b32b-06fb6850de67",
   "metadata": {},
   "outputs": [],
   "source": [
    "df7 = pd.read_csv( '../data/csv/preds_ft_5_unsw.csv', index_col='entry_id' )\n",
    "dict7 = classification_report( df7['actual'], df7['pred'], output_dict=True )\n",
    "\n",
    "with open( '../data/json/report_fine_tuning_5_examples_unsw.json', 'w' ) as f:\n",
    "    json.dump( dict7, f, indent=4 )"
   ]
  },
  {
   "cell_type": "code",
   "execution_count": null,
   "id": "9de30515-26fa-43de-8866-cbac0bcc931a",
   "metadata": {},
   "outputs": [],
   "source": [
    "df8 = pd.read_csv( '../data/csv/preds_ft_5_zbw.csv', index_col='entry_id' )\n",
    "dict8 = classification_report( df8['actual'], df8['pred'], output_dict=True )\n",
    "\n",
    "with open( '../data/json/report_fine_tuning_5_examples_zbw.json', 'w' ) as f:\n",
    "    json.dump( dict8, f, indent=4 )"
   ]
  },
  {
   "cell_type": "code",
   "execution_count": 38,
   "id": "7ac58bb7-3b38-4153-989b-bc1e39c53765",
   "metadata": {},
   "outputs": [],
   "source": [
    "df9 = pd.read_csv( '../data/csv/preds_pt_7_unsw.csv', index_col='entry_id' )\n",
    "dict9 = classification_report( df9['actual'], df9['pred'], output_dict=True )\n",
    "\n",
    "with open( '../data/json/report_prompt_tuning_7_examples_unsw.json', 'w' ) as f:\n",
    "    json.dump( dict9, f, indent=4 )"
   ]
  },
  {
   "cell_type": "code",
   "execution_count": null,
   "id": "ca42d106-c6c6-41e5-984d-3699df13cf2d",
   "metadata": {},
   "outputs": [],
   "source": [
    "df10 = pd.read_csv( '../data/csv/preds_pt_7_zbw.csv' )\n",
    "dict10 = classification_report( df10['actual'], df10['pred'], output_dict=True )\n",
    "\n",
    "with open( '../data/json/report_prompt_tuning_7_examples_zbw.json', 'w' ) as f:\n",
    "    json.dump( dict10, f, indent=4 )"
   ]
  }
 ],
 "metadata": {
  "kernelspec": {
   "display_name": "Python 3 (ipykernel)",
   "language": "python",
   "name": "python3"
  },
  "language_info": {
   "codemirror_mode": {
    "name": "ipython",
    "version": 3
   },
   "file_extension": ".py",
   "mimetype": "text/x-python",
   "name": "python",
   "nbconvert_exporter": "python",
   "pygments_lexer": "ipython3",
   "version": "3.10.12"
  }
 },
 "nbformat": 4,
 "nbformat_minor": 5
}
